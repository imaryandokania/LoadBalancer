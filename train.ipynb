{
 "cells": [
  {
   "cell_type": "code",
   "execution_count": 4,
   "id": "b96fbcb4",
   "metadata": {},
   "outputs": [],
   "source": [
    "from sklearn.linear_model import LinearRegression\n",
    "import pandas as pd\n",
    "import json"
   ]
  },
  {
   "cell_type": "code",
   "execution_count": 5,
   "id": "a5266d78",
   "metadata": {},
   "outputs": [
    {
     "name": "stdout",
     "output_type": "stream",
     "text": [
      "Model saved to model.json\n"
     ]
    }
   ],
   "source": [
    "df = pd.read_csv('vmCloud_data.csv')\n",
    "\n",
    "# Drop rows with missing values\n",
    "df.dropna(inplace=True)\n",
    "\n",
    "# Select features (input to ML model)\n",
    "X = df[['cpu_usage', 'memory_usage', 'network_traffic']]\n",
    "\n",
    "# Select a target (what you want to optimize, for routing)\n",
    "# You can choose: execution_time, energy_efficiency, etc.\n",
    "y = df['execution_time']\n",
    "\n",
    "# Train the model\n",
    "model = LinearRegression()\n",
    "model.fit(X, y)\n",
    "\n",
    "# Save model as JSON\n",
    "model_data = {\n",
    "    'weights': model.coef_.tolist(),    # [w1, w2, w3]\n",
    "    'intercept': model.intercept_       # b\n",
    "}\n",
    "\n",
    "with open('model.json', 'w') as f:\n",
    "    json.dump(model_data, f)\n",
    "\n",
    "print(\"Model saved to model.json\")"
   ]
  }
 ],
 "metadata": {
  "kernelspec": {
   "display_name": ".venv",
   "language": "python",
   "name": "python3"
  },
  "language_info": {
   "codemirror_mode": {
    "name": "ipython",
    "version": 3
   },
   "file_extension": ".py",
   "mimetype": "text/x-python",
   "name": "python",
   "nbconvert_exporter": "python",
   "pygments_lexer": "ipython3",
   "version": "3.10.17"
  }
 },
 "nbformat": 4,
 "nbformat_minor": 5
}
